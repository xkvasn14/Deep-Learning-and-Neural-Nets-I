{
 "cells": [
  {
   "cell_type": "raw",
   "metadata": {},
   "source": [
    "\n",
    "This  material,  no  matter  whether  in  printed  or  electronic  form,  \n",
    "may  be  used  for  personal  and non-commercial educational use only.  \n",
    "Any reproduction of this manuscript, no matter whether as a whole or in parts, \n",
    "no matter whether in printed or in electronic form, \n",
    "requires explicit prior acceptance of the authors.\n"
   ]
  },
  {
   "cell_type": "markdown",
   "metadata": {},
   "source": [
    "<!-- Assignment X- WS 2022 -->\n",
    "\n",
    "# Regular-, Initial- &amp; Normalisation (10 points)"
   ]
  },
  {
   "cell_type": "markdown",
   "metadata": {},
   "source": [
    "# This notebook contains the sixth assignment for the exercises in Deep Learning and Neural Nets 1.\n",
    "It provides a skeleton, i.e. code with gaps, that will be filled out by you in different exercises.\n",
    "All exercise descriptions are visually annotated by a vertical bar on the left and some extra indentation,\n",
    "unless you already messed with your jupyter notebook configuration.\n",
    "Any questions that are not part of the exercise statement do not need to be answered,\n",
    "but should rather be interpreted as triggers to guide your thought process.\n",
    "\n",
    "**Note**: The cells in the introductory part (before the first subtitle)\n",
    "perform all necessary imports and provide utility function that should work without problems.\n",
    "Please, do not alter this code or add extra import statements in your submission, unless it is explicitly requested!\n",
    "\n",
    "<span style=\"color:#d95c4c\">**IMPORTANT:**</span> Please, change the name of your submission file so that it contains your student ID!\n",
    "\n",
    "In this assignment, the goal is to get familiar with some tools that can help to speed up the training process of neural networks. **Regularisation** is a technique that can be used to avoid overfitting. Knowing what kind of **initialisation** to use in what context is often important to assure fast learning. **Normalisation** is a tool that tackles the problem of drifting distributions that pops up in very deep networks and hinders learning."
   ]
  },
  {
   "cell_type": "code",
   "execution_count": 1,
   "metadata": {},
   "outputs": [],
   "source": [
    "import numpy as np\n",
    "\n",
    "from nnumpy import Module, Parameter\n",
    "from nnumpy.testing import gradient_check\n",
    "\n",
    "rng = np.random.default_rng(1856)"
   ]
  },
  {
   "cell_type": "code",
   "execution_count": 2,
   "metadata": {},
   "outputs": [],
   "source": [
    "def initialiser(fn):\n",
    "    \"\"\" \n",
    "    Function decorator for initialisation functions that\n",
    "    enables initialisation of multiple weight arrays at once. \n",
    "    \"\"\"\n",
    "    \n",
    "    def init_wrapper(*parameters, **kwargs):\n",
    "        for par in parameters:\n",
    "            par[:] = fn(par.shape, **kwargs)\n",
    "            par.zero_grad()\n",
    "    \n",
    "    init_wrapper.__name__ = fn.__name__ + \"_init\"\n",
    "    init_wrapper.__doc__ = fn.__doc__\n",
    "    return init_wrapper"
   ]
  },
  {
   "cell_type": "markdown",
   "metadata": {},
   "source": [
    "## Regularisation"
   ]
  },
  {
   "cell_type": "markdown",
   "metadata": {},
   "source": [
    "Neural networks are infamously prone to overfitting. Just as with any machine learning model, overfitting can relatively easily be detected by monitoring the learning curves on training and validation sets. In order to counter these effects, you can use regularisation techniques. \n",
    "\n",
    "![learning curves](https://d2l.ai/_images/capacity-vs-error.svg)\n",
    "\n",
    "One possibility is to use well-known approaches from regression: e.g. $L_1$ or $L_2$ regularisation, which are also known as *LASSO*, resp. *ridge* regression. Also simply interrupting the learning before the overfitting occurs can prevent overfitting models. These are only a few examples, but most regularisation techniques are not exlusive to neural networks. However, there is one NN-exclusive approach that is very commonly used: **Dropout**."
   ]
  },
  {
   "cell_type": "markdown",
   "metadata": {},
   "source": [
    "### Exercise 1: Dropout (3 Points)\n",
    "\n",
    "Dropout is a simple, but very effective regularisation technique that can be added practically anywhere in a network. The idea of dropout is to randomly disable a few neurons during training. During inference all neurons are used. Since this would lead to a shift in distribution of the pre-activations in the next layer (training vs inference), the neurons are scaled down during evaluation so that the distributions during inference and training are approximately the same. In order to avoid the need to change the network during evaluation, it is also possible to scale up the activations during training. This specific change in implementation is often referred to as *inverted* dropout.\n",
    "\n",
    "> Implement the forward and backward pass of an **inverted dropout** module.\n",
    "\n",
    "**Hint:** use the `Module` attribute `predicting` to check whether you are in prediction or training or mode."
   ]
  },
  {
   "cell_type": "code",
   "execution_count": 3,
   "metadata": {
    "deletable": false,
    "nbgrader": {
     "cell_type": "code",
     "checksum": "97f37d4fc4a283d8e6bcad34c4f18a9d",
     "grade": false,
     "grade_id": "cell-565db1c8981b93b7",
     "locked": false,
     "schema_version": 3,
     "solution": true,
     "task": false
    },
    "tags": []
   },
   "outputs": [],
   "source": [
    "class Dropout(Module):\n",
    "    \"\"\" NNumpy implementation of (inverted) dropout. \"\"\"\n",
    "\n",
    "    def __init__(self, rate: float = .5, seed: int = None):\n",
    "        \"\"\"\n",
    "        Parameters\n",
    "        ----------\n",
    "        rate : float, optional\n",
    "            The percentage of neurons to be dropped.\n",
    "        seed : int, optional\n",
    "            Seed for the pseudo random generator.\n",
    "        \"\"\"\n",
    "        super().__init__()\n",
    "        if rate < 0. or rate > 1.:\n",
    "            raise ValueError(\"dropout rate should be between zero and one\")\n",
    "\n",
    "        self.rate = float(rate)\n",
    "        self.rng = np.random.default_rng(seed)\n",
    "\n",
    "    def compute_outputs(self, x):\n",
    "        # YOUR CODE HERE\n",
    "        if(self.predicting):\n",
    "            # predicting mode / testing mode\n",
    "            return x, None\n",
    "        else:\n",
    "            # training mode\n",
    "            self.mask = (self.rng.random(x.shape) < self.rate) / (1 - self.rate)\n",
    "            out = x * self.mask\n",
    "            return out, self.mask\n",
    "\n",
    "    def compute_grads(self, grads, multiplier):\n",
    "        # YOUR CODE HERE\n",
    "        if(self.predicting):\n",
    "            #predicting mode / testing mode\n",
    "            return grads\n",
    "        else:\n",
    "            #training mode\n",
    "            return grads * multiplier"
   ]
  },
  {
   "cell_type": "code",
   "execution_count": 4,
   "metadata": {
    "deletable": false,
    "editable": false,
    "nbgrader": {
     "cell_type": "code",
     "checksum": "ce2d00d9b6cdf1147d1cf1c03225d3f3",
     "grade": true,
     "grade_id": "cell-dd96372dbbc02b5a",
     "locked": true,
     "points": 0.5,
     "schema_version": 3,
     "solution": false,
     "task": false
    }
   },
   "outputs": [],
   "source": [
    "# Test Cell: do not edit or delete!\n",
    "dropout_layer = Dropout(rate=0.5)\n",
    "x = np.ones(7)\n",
    "y, cache = dropout_layer.compute_outputs(x)\n",
    "assert isinstance(y, np.ndarray), (\n",
    "    \"ex1: the output of Dropout.compute_outputs is not a numpy array (-0.5 points)\"\n",
    ")\n",
    "assert y.shape == x.shape, (\n",
    "    \"ex1: the output of Dropout.compute_outputs has incorrect shape (-0.5 points)\"\n",
    ")"
   ]
  },
  {
   "cell_type": "code",
   "execution_count": 5,
   "metadata": {
    "deletable": false,
    "editable": false,
    "nbgrader": {
     "cell_type": "code",
     "checksum": "870b99c8730bed09b61181455b68d246",
     "grade": true,
     "grade_id": "cell-e391ee33e0228f41",
     "locked": true,
     "points": 0.5,
     "schema_version": 3,
     "solution": false,
     "task": false
    }
   },
   "outputs": [],
   "source": [
    "# Test Cell: do not edit or delete!"
   ]
  },
  {
   "cell_type": "code",
   "execution_count": 6,
   "metadata": {
    "deletable": false,
    "editable": false,
    "nbgrader": {
     "cell_type": "code",
     "checksum": "4ce9f5d2136204dc942ee4038eb5ce34",
     "grade": true,
     "grade_id": "cell-5ae97c58c8266f9f",
     "locked": true,
     "points": 1,
     "schema_version": 3,
     "solution": false,
     "task": false
    }
   },
   "outputs": [],
   "source": [
    "# Test Cell: do not edit or delete!"
   ]
  },
  {
   "cell_type": "code",
   "execution_count": 7,
   "metadata": {
    "deletable": false,
    "editable": false,
    "nbgrader": {
     "cell_type": "code",
     "checksum": "f190b9ca25636bbc605b7312a5be074b",
     "grade": true,
     "grade_id": "cell-9b97146f86e56ee1",
     "locked": true,
     "points": 1,
     "schema_version": 3,
     "solution": false,
     "task": false
    }
   },
   "outputs": [],
   "source": [
    "# Test Cell: do not edit or delete!\n",
    "dropout_layer = Dropout(rate=0.2)\n",
    "x = rng.standard_normal(size=(1, 11, 13))\n",
    "assert gradient_check(dropout_layer, x, debug=True), (\n",
    "    \"ex1: gradient check for Dropout failed (-1 point)\"\n",
    ")"
   ]
  },
  {
   "cell_type": "markdown",
   "metadata": {},
   "source": [
    "## Initialisation"
   ]
  },
  {
   "cell_type": "markdown",
   "metadata": {},
   "source": [
    "A good initialisation has proven to be very important to learn deep neural networks. Although this can be considered as a well-known fact, it is astonishing how often initialisation is ignored. Since simply initialising all parameters with some constant does not work, the initial values are generally small, randomly generated numbers. There are different distributions to sample these values from, however."
   ]
  },
  {
   "cell_type": "markdown",
   "metadata": {},
   "source": [
    "### Exercise 2: Xavier Glorot (3 Points)\n",
    "\n",
    "When generating random values, there are different choices for the distribution to draw numbers from. The uniform or Gaussian (a.k.a. normal) distributions are most common for initialising the parameters of a neural network. After all, these are simple distributions that can easily be centred around zero.\n",
    "\n",
    "Apart from centring the initial parameters around zero, it is also helpful to make sure that the weights have a specific amount of variance. Xavier Glorot proposed to use the reciprocal of the average of fan-in and fan-out, i.e. $\\frac{2}{\\text{fan-in} + \\text{fan-out}}$, for the variance. Here, *fan-in* and *fan-out* are the number of incoming connections per output neuron and number of outgoing connections per input neuron, respectively.\n",
    "\n",
    "Note, however, that this proposal only holds for identity and $\\tanh$ activation functions. When using different activation functions, the variance of the initial parameters need to be scaled correspondingly. This can be done by means of a linear *gain* factor that accounts for the effect of the activation functions.\n",
    "\n",
    " > Implement the `glorot_uniform` function so that it produces initial weights for a parameter with given shape according to the proposal from Xavier Glorot. Make sure to make use of the seed for the initialisation, as well as the `gain` parameter.\n",
    " \n",
    "**Hint:** Think carefully about the number of connections in convolutional layers."
   ]
  },
  {
   "cell_type": "code",
   "execution_count": 8,
   "metadata": {
    "deletable": false,
    "nbgrader": {
     "cell_type": "code",
     "checksum": "388755b4ab8531f3ef1533550f50e89d",
     "grade": false,
     "grade_id": "cell-5351c0b2b4e93e8f",
     "locked": false,
     "schema_version": 3,
     "solution": true,
     "task": false
    },
    "tags": []
   },
   "outputs": [],
   "source": [
    "@initialiser\n",
    "def glorot_uniform(shape, gain: float = 1., seed: int = None):\n",
    "    \"\"\"\n",
    "    Initialise parameter cf. Glorot, using a uniform distribution.\n",
    "    \n",
    "    Parameters\n",
    "    ----------\n",
    "    shape : tuple\n",
    "        The shape of the parameter to be initialised.\n",
    "    gain : float, optional\n",
    "        Multiplier for the variance of the initialisation.\n",
    "    seed : int, optional\n",
    "        Seed for generating pseudo random numbers.\n",
    "        \n",
    "    Returns\n",
    "    -------\n",
    "    values: ndarray\n",
    "        Numpy array with the initial weight values\n",
    "        with dimensions as specified by `shape`.\n",
    "    \"\"\"\n",
    "    # YOUR CODE HERE\n",
    "    rng = np.random.default_rng(seed)\n",
    "\n",
    "    fan_in, fan_out = compute_fans(shape)\n",
    "\n",
    "    # Calculate the standard deviation based on Glorot initialization\n",
    "    std_dev = gain * np.sqrt(2.0 / (fan_in + fan_out))\n",
    "\n",
    "    # Initialize weights with uniform distribution\n",
    "    values = rng.uniform(-std_dev, std_dev, size=shape)\n",
    "\n",
    "    return values\n",
    "\n",
    "def compute_fans(shape):\n",
    "    \"\"\"\n",
    "    Compute the number of input and output units for a weight tensor.\n",
    "    \n",
    "    Parameters\n",
    "    ----------\n",
    "    shape : tuple\n",
    "        The shape of the weight tensor.\n",
    "        \n",
    "    Returns\n",
    "    -------\n",
    "    fan_in : int\n",
    "        Number of input units.\n",
    "    fan_out : int\n",
    "        Number of output units.\n",
    "    \"\"\"\n",
    "    if len(shape) == 2:  # For dense layers\n",
    "        fan_in, fan_out = shape[0], shape[1]\n",
    "    elif len(shape) in {3, 4}:  # For convolutional layers\n",
    "        fan_in = np.prod(shape[:-1])\n",
    "        fan_out = shape[-1]\n",
    "    else:\n",
    "        raise ValueError(\"Unsupported shape for Glorot initialization\")\n",
    "\n",
    "    return fan_in, fan_out"
   ]
  },
  {
   "cell_type": "code",
   "execution_count": 9,
   "metadata": {
    "deletable": false,
    "editable": false,
    "nbgrader": {
     "cell_type": "code",
     "checksum": "aa2272a190f4c88fbeca306a98dee945",
     "grade": true,
     "grade_id": "cell-8dfc040ab2a66cc8",
     "locked": true,
     "points": 0.5,
     "schema_version": 3,
     "solution": false,
     "task": false
    }
   },
   "outputs": [],
   "source": [
    "# Test Cell: do not edit or delete!\n",
    "par = Parameter(np.ones((10, 10)))\n",
    "glorot_uniform(par, seed=1806)\n",
    "assert np.all(par != 1), (\n",
    "    \"ex2: glorot_uniform function does not return (reasonable) values (-0.5 points)\"\n",
    ")"
   ]
  },
  {
   "cell_type": "code",
   "execution_count": 10,
   "metadata": {
    "deletable": false,
    "editable": false,
    "nbgrader": {
     "cell_type": "code",
     "checksum": "915051865f2014271d294b9be0128b1d",
     "grade": true,
     "grade_id": "cell-36e43e0b48134740",
     "locked": true,
     "points": 0.5,
     "schema_version": 3,
     "solution": false,
     "task": false
    }
   },
   "outputs": [],
   "source": [
    "# Test Cell: do not edit or delete!\n",
    "par1 = Parameter(np.ones((10, 10)))\n",
    "par2 = Parameter(np.ones((100, 100)))\n",
    "glorot_uniform(par1, par2, seed=1806)\n",
    "assert not np.isclose(par1.var(), par2.var(), atol=1e-3), (\n",
    "    \"ex2: glorot_uniform function does not (correctly) use FC parameter shape (-0.5 points)\"\n",
    ")\n",
    "par1 = Parameter(np.ones((10, 10, 3, 3)))\n",
    "par2 = Parameter(np.ones((100, 100, 3, 3)))\n",
    "glorot_uniform(par1, par2, seed=1806)\n",
    "assert not np.isclose(par1.var(), par2.var(), atol=1e-3), (\n",
    "    \"ex2: glorot_uniform function does not (correctly) use Conv parameter shape (-0.5 points)\"\n",
    ")"
   ]
  },
  {
   "cell_type": "code",
   "execution_count": 11,
   "metadata": {
    "deletable": false,
    "editable": false,
    "nbgrader": {
     "cell_type": "code",
     "checksum": "7c9ca3a3ddf4eb119c58794981ad0a86",
     "grade": true,
     "grade_id": "cell-c88dca2b2e0f14c9",
     "locked": true,
     "points": 1,
     "schema_version": 3,
     "solution": false,
     "task": false
    }
   },
   "outputs": [],
   "source": [
    "# Test Cell: do not edit or delete!"
   ]
  },
  {
   "cell_type": "code",
   "execution_count": 12,
   "metadata": {
    "deletable": false,
    "editable": false,
    "nbgrader": {
     "cell_type": "code",
     "checksum": "d48b51992dd28bd861b6004de131b462",
     "grade": true,
     "grade_id": "cell-fadc19a990891dad",
     "locked": true,
     "points": 1,
     "schema_version": 3,
     "solution": false,
     "task": false
    }
   },
   "outputs": [],
   "source": [
    "# Test Cell: do not edit or delete!"
   ]
  },
  {
   "cell_type": "markdown",
   "metadata": {},
   "source": [
    "## Normalisation"
   ]
  },
  {
   "cell_type": "markdown",
   "metadata": {},
   "source": [
    "Whereas initialisation ensures proper variance propagation through the network when learning starts, it does not ensure that the weights keep these properties after some updates. To ensure a steady flow of information through the network, normalisation techniques were introduced. The idea of normalisation is to normalise either the activations or pre-activations. This can be done explicitly, using techniques like *Batch* or *Layer Normalisation*, or more implicitly, e.g. *weight normalisation* or using *self-normalising networks*."
   ]
  },
  {
   "cell_type": "markdown",
   "metadata": {},
   "source": [
    "### Exercise 3: Batch Normalisation (4 Points)\n",
    "\n",
    "Batch Normalisation (or *batch norm* for short) has empirically proven to be a very useful technique for improving the performance of neural networks. It is not quite clear why it works so well, but there is some form of consensus that it acts as a regulariser and improves gradient flow in the network. \n",
    "\n",
    "The core principle of batch norm is to subtract the mean and divide by the standard deviation of the data, computed over the samples in one batch. Each neuron is normalised individually, so that all neurons have zero mean and unit variance. Batch norm also uses parameters $\\gamma$ and $\\beta$ to scale, resp. shift the normalised signal. Note that, since batch norm relies on batch statistics, it requires a large batch size to work properly!\n",
    "\n",
    "During inference, it is not uncommon to want a prediction for a single sample. Therefore, you generally do not want to use the mean computed during inference. Therefore, batch norm tracks the statistics of the data during training using a [moving average](https://en.wikipedia.org/wiki/Moving_average). During evaluation, these tracked statistics, i.e. the statistics of the training data, are used to normalise the previously unseen samples.\n",
    "\n",
    " > Implement the forward and backward pass of the batch normalisation module. Use a simple moving average for tracking the statistics.\n",
    " \n",
    "**Hint:** You can track the statistics in attributes of the module."
   ]
  },
  {
   "cell_type": "code",
   "execution_count": 13,
   "metadata": {
    "deletable": false,
    "nbgrader": {
     "cell_type": "code",
     "checksum": "353d2b6f30d1c8f5b6c2ba5dcde9a8fe",
     "grade": false,
     "grade_id": "cell-22f452e4bee9752e",
     "locked": false,
     "schema_version": 3,
     "solution": true,
     "task": false
    },
    "tags": []
   },
   "outputs": [],
   "source": [
    "class BatchNormalisation(Module):\n",
    "    \"\"\" NNumpy implementation of batch normalisation. \"\"\"\n",
    "\n",
    "    def __init__(self, dims: tuple, eps: float = 1e-8):\n",
    "        \"\"\"\n",
    "        Parameters\n",
    "        ----------\n",
    "        dims : tuple of ints\n",
    "            The shape of the incoming signal (without batch dimension).\n",
    "        eps : float, optional\n",
    "            Small value for numerical stability.\n",
    "        \"\"\"\n",
    "        super().__init__()\n",
    "        self.dims = tuple(dims)\n",
    "        self.eps = float(eps)\n",
    "        \n",
    "        self.gamma = self.register_parameter('gamma', np.ones(self.dims))\n",
    "        self.beta = self.register_parameter('beta', np.zeros(self.dims))\n",
    "        \n",
    "        self.running_count = 0\n",
    "        self.running_stats = np.zeros((2, ) + self.dims)\n",
    "\n",
    "    def compute_outputs(self, x):\n",
    "        mean = np.mean(x, axis=0)\n",
    "        var = np.var(x, axis=0)\n",
    "\n",
    "        x_normalized = (x - mean) / np.sqrt(var + self.eps)\n",
    "        out = self.gamma * x_normalized + self.beta\n",
    "\n",
    "        # Update running statistics during training\n",
    "        if not self.predicting:\n",
    "            self.running_count += 1\n",
    "            decay = 0.9  # Adjust decay factor as needed\n",
    "            self.running_stats[0] = decay * self.running_stats[0] + (1 - decay) * mean\n",
    "            self.running_stats[1] = decay * self.running_stats[1] + (1 - decay) * var\n",
    "\n",
    "        return out, (x, mean, var, x_normalized)\n",
    "\n",
    "\n",
    "    def compute_grads(self, grads, cache):\n",
    "        x, mean, var, x_normalized = cache\n",
    "\n",
    "        N = x.shape[0]\n",
    "        dx_normalized = grads * self.gamma\n",
    "        dvar = np.sum(dx_normalized * (x - mean), axis=0) * -0.5 * np.power(var + self.eps, -1.5)\n",
    "        dmean = np.sum(dx_normalized * -1 / np.sqrt(var + self.eps), axis=0) + dvar * np.sum(-2 * (x - mean), axis=0) / N\n",
    "        dx = dx_normalized / np.sqrt(var + self.eps) + dvar * 2 * (x - mean) / N + dmean / N\n",
    "\n",
    "        dgamma = np.sum(grads * x_normalized, axis=0)\n",
    "        dbeta = np.sum(grads, axis=0)\n",
    "\n",
    "        self.gamma.grad = dgamma\n",
    "        self.beta.grad = dbeta\n",
    "\n",
    "        return dx"
   ]
  },
  {
   "cell_type": "code",
   "execution_count": 14,
   "metadata": {
    "deletable": false,
    "editable": false,
    "nbgrader": {
     "cell_type": "code",
     "checksum": "ba13786b9b9be3d5d6005926b4aedef6",
     "grade": true,
     "grade_id": "cell-dda1da11b6fc71ef",
     "locked": true,
     "points": 0.5,
     "schema_version": 3,
     "solution": false,
     "task": false
    },
    "tags": []
   },
   "outputs": [],
   "source": [
    "# Test Cell: do not edit or delete!\n",
    "x = np.linspace(-1, 3, 50).reshape(10, 5)\n",
    "bn = BatchNormalisation(x.shape[1:])\n",
    "y_train, _ = bn.compute_outputs(x)\n",
    "assert isinstance(y_train, np.ndarray), (\n",
    "    \"ex3: output of BatchNormalisation.compute_outputs is not a numpy array (-0.5 points)\"\n",
    ")\n",
    "assert y_train.shape == x.shape, (\n",
    "    \"ex3: output of BatchNormalisation.compute_outputs has incorrect shape (-0.5 points)\"\n",
    ")\n",
    "\n",
    "bn.eval()\n",
    "y_eval, _ = bn.compute_outputs(x)\n",
    "assert isinstance(y_eval, np.ndarray), (\n",
    "    \"ex3: output of BatchNormalisation.compute_outputs is not a numpy array in eval mode (-0.5 points)\"\n",
    ")\n",
    "assert y_eval.shape == x.shape, (\n",
    "    \"ex3: output of BatchNormalisation.compute_outputs has incorrect shape in eval mode (-0.5 points)\"\n",
    ")"
   ]
  },
  {
   "cell_type": "code",
   "execution_count": 15,
   "metadata": {
    "deletable": false,
    "editable": false,
    "nbgrader": {
     "cell_type": "code",
     "checksum": "2edc60965ff5e14accb15a06296eebdb",
     "grade": true,
     "grade_id": "cell-ae856e88d1052d1d",
     "locked": true,
     "points": 1,
     "schema_version": 3,
     "solution": false,
     "task": false
    },
    "tags": []
   },
   "outputs": [],
   "source": [
    "# Test Cell: do not edit or delete!\n",
    "x = np.linspace(-1, 3, 50).reshape(10, 5)\n",
    "bn = BatchNormalisation(x.shape[1:])\n",
    "y_train, _ = bn.compute_outputs(x)\n",
    "assert np.isclose(y_train.mean(), 0.), (\n",
    "    \"ex3: BatchNormalisation.compute_outputs does not produce zero-mean outputs (-1 point)\"\n",
    ")\n",
    "assert np.isclose(y_train.var(), 1.), (\n",
    "    \"ex3: BatchNormalisation.compute_outputs does not produce unit variance outputs (-1 point)\"\n",
    ")\n",
    "\n",
    "bn.eval()\n",
    "y_eval, _ = bn.compute_outputs(x)\n",
    "assert np.isclose(y_eval.mean(), 0.), (\n",
    "    \"ex3: BatchNormalisation.compute_outputs does not produce zero-mean outputs in eval mode (-1 point)\"\n",
    ")\n",
    "assert np.isclose(y_eval.var(), 1.), (\n",
    "    \"ex3: BatchNormalisation.compute_outputs does not produce unit variance outputs in eval mode(-1 point)\"\n",
    ")"
   ]
  },
  {
   "cell_type": "code",
   "execution_count": 16,
   "metadata": {
    "deletable": false,
    "editable": false,
    "nbgrader": {
     "cell_type": "code",
     "checksum": "4b361a4100cbbb2746cc13c9ca3b338d",
     "grade": true,
     "grade_id": "cell-e73d7473d0017f6e",
     "locked": true,
     "points": 0.5,
     "schema_version": 3,
     "solution": false,
     "task": false
    }
   },
   "outputs": [],
   "source": [
    "# Test Cell: do not edit or delete!"
   ]
  },
  {
   "cell_type": "code",
   "execution_count": 17,
   "metadata": {
    "deletable": false,
    "editable": false,
    "nbgrader": {
     "cell_type": "code",
     "checksum": "55f5c67c620d1d2a426523a342ddf43d",
     "grade": true,
     "grade_id": "cell-86100e218d10aaa4",
     "locked": true,
     "points": 0.5,
     "schema_version": 3,
     "solution": false,
     "task": false
    }
   },
   "outputs": [],
   "source": [
    "# Test Cell: do not edit or delete!"
   ]
  },
  {
   "cell_type": "code",
   "execution_count": 18,
   "metadata": {
    "deletable": false,
    "editable": false,
    "nbgrader": {
     "cell_type": "code",
     "checksum": "52e13bd2cb6c1f2833e62c3423c083b2",
     "grade": true,
     "grade_id": "cell-d105a597316ada55",
     "locked": true,
     "points": 1.5,
     "schema_version": 3,
     "solution": false,
     "task": false
    },
    "scrolled": true,
    "tags": []
   },
   "outputs": [],
   "source": [
    "# Test Cell: do not edit or delete!\n",
    "shape_ = (7, 3, 5)\n",
    "x = rng.uniform(0, 3, size= shape_)\n",
    "bn = BatchNormalisation(x.shape[1:])\n",
    "assert gradient_check(bn, x, debug=True), (\n",
    "    \"ex3: gradient check for BatchNormalization failed (-1.5 points)\"\n",
    ")"
   ]
  },
  {
   "cell_type": "code",
   "execution_count": null,
   "metadata": {},
   "outputs": [],
   "source": []
  }
 ],
 "metadata": {
  "kernelspec": {
   "display_name": "Python 3 (ipykernel)",
   "language": "python",
   "name": "python3"
  },
  "language_info": {
   "codemirror_mode": {
    "name": "ipython",
    "version": 3
   },
   "file_extension": ".py",
   "mimetype": "text/x-python",
   "name": "python",
   "nbconvert_exporter": "python",
   "pygments_lexer": "ipython3",
   "version": "3.11.5"
  }
 },
 "nbformat": 4,
 "nbformat_minor": 4
}
